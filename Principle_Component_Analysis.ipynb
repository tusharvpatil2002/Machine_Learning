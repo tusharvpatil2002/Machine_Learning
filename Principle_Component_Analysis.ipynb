{
 "cells": [
  {
   "cell_type": "code",
   "execution_count": 79,
   "id": "dcf5e54d",
   "metadata": {},
   "outputs": [],
   "source": [
    "import pandas as pd\n",
    "import numpy as np"
   ]
  },
  {
   "cell_type": "code",
   "execution_count": 80,
   "id": "74f79065",
   "metadata": {},
   "outputs": [],
   "source": [
    "data = pd.read_csv('train.csv')"
   ]
  },
  {
   "cell_type": "code",
   "execution_count": 81,
   "id": "1cc88e10",
   "metadata": {},
   "outputs": [
    {
     "data": {
      "text/html": [
       "<div>\n",
       "<style scoped>\n",
       "    .dataframe tbody tr th:only-of-type {\n",
       "        vertical-align: middle;\n",
       "    }\n",
       "\n",
       "    .dataframe tbody tr th {\n",
       "        vertical-align: top;\n",
       "    }\n",
       "\n",
       "    .dataframe thead th {\n",
       "        text-align: right;\n",
       "    }\n",
       "</style>\n",
       "<table border=\"1\" class=\"dataframe\">\n",
       "  <thead>\n",
       "    <tr style=\"text-align: right;\">\n",
       "      <th></th>\n",
       "      <th>PassengerId</th>\n",
       "      <th>Survived</th>\n",
       "      <th>Pclass</th>\n",
       "      <th>Name</th>\n",
       "      <th>Sex</th>\n",
       "      <th>Age</th>\n",
       "      <th>SibSp</th>\n",
       "      <th>Parch</th>\n",
       "      <th>Ticket</th>\n",
       "      <th>Fare</th>\n",
       "      <th>Cabin</th>\n",
       "      <th>Embarked</th>\n",
       "    </tr>\n",
       "  </thead>\n",
       "  <tbody>\n",
       "    <tr>\n",
       "      <th>0</th>\n",
       "      <td>1</td>\n",
       "      <td>0</td>\n",
       "      <td>3</td>\n",
       "      <td>Braund, Mr. Owen Harris</td>\n",
       "      <td>male</td>\n",
       "      <td>22.0</td>\n",
       "      <td>1</td>\n",
       "      <td>0</td>\n",
       "      <td>A/5 21171</td>\n",
       "      <td>7.2500</td>\n",
       "      <td>NaN</td>\n",
       "      <td>S</td>\n",
       "    </tr>\n",
       "    <tr>\n",
       "      <th>1</th>\n",
       "      <td>2</td>\n",
       "      <td>1</td>\n",
       "      <td>1</td>\n",
       "      <td>Cumings, Mrs. John Bradley (Florence Briggs Th...</td>\n",
       "      <td>female</td>\n",
       "      <td>38.0</td>\n",
       "      <td>1</td>\n",
       "      <td>0</td>\n",
       "      <td>PC 17599</td>\n",
       "      <td>71.2833</td>\n",
       "      <td>C85</td>\n",
       "      <td>C</td>\n",
       "    </tr>\n",
       "    <tr>\n",
       "      <th>2</th>\n",
       "      <td>3</td>\n",
       "      <td>1</td>\n",
       "      <td>3</td>\n",
       "      <td>Heikkinen, Miss. Laina</td>\n",
       "      <td>female</td>\n",
       "      <td>26.0</td>\n",
       "      <td>0</td>\n",
       "      <td>0</td>\n",
       "      <td>STON/O2. 3101282</td>\n",
       "      <td>7.9250</td>\n",
       "      <td>NaN</td>\n",
       "      <td>S</td>\n",
       "    </tr>\n",
       "    <tr>\n",
       "      <th>3</th>\n",
       "      <td>4</td>\n",
       "      <td>1</td>\n",
       "      <td>1</td>\n",
       "      <td>Futrelle, Mrs. Jacques Heath (Lily May Peel)</td>\n",
       "      <td>female</td>\n",
       "      <td>35.0</td>\n",
       "      <td>1</td>\n",
       "      <td>0</td>\n",
       "      <td>113803</td>\n",
       "      <td>53.1000</td>\n",
       "      <td>C123</td>\n",
       "      <td>S</td>\n",
       "    </tr>\n",
       "    <tr>\n",
       "      <th>4</th>\n",
       "      <td>5</td>\n",
       "      <td>0</td>\n",
       "      <td>3</td>\n",
       "      <td>Allen, Mr. William Henry</td>\n",
       "      <td>male</td>\n",
       "      <td>35.0</td>\n",
       "      <td>0</td>\n",
       "      <td>0</td>\n",
       "      <td>373450</td>\n",
       "      <td>8.0500</td>\n",
       "      <td>NaN</td>\n",
       "      <td>S</td>\n",
       "    </tr>\n",
       "  </tbody>\n",
       "</table>\n",
       "</div>"
      ],
      "text/plain": [
       "   PassengerId  Survived  Pclass  \\\n",
       "0            1         0       3   \n",
       "1            2         1       1   \n",
       "2            3         1       3   \n",
       "3            4         1       1   \n",
       "4            5         0       3   \n",
       "\n",
       "                                                Name     Sex   Age  SibSp  \\\n",
       "0                            Braund, Mr. Owen Harris    male  22.0      1   \n",
       "1  Cumings, Mrs. John Bradley (Florence Briggs Th...  female  38.0      1   \n",
       "2                             Heikkinen, Miss. Laina  female  26.0      0   \n",
       "3       Futrelle, Mrs. Jacques Heath (Lily May Peel)  female  35.0      1   \n",
       "4                           Allen, Mr. William Henry    male  35.0      0   \n",
       "\n",
       "   Parch            Ticket     Fare Cabin Embarked  \n",
       "0      0         A/5 21171   7.2500   NaN        S  \n",
       "1      0          PC 17599  71.2833   C85        C  \n",
       "2      0  STON/O2. 3101282   7.9250   NaN        S  \n",
       "3      0            113803  53.1000  C123        S  \n",
       "4      0            373450   8.0500   NaN        S  "
      ]
     },
     "execution_count": 81,
     "metadata": {},
     "output_type": "execute_result"
    }
   ],
   "source": [
    "data.head()"
   ]
  },
  {
   "cell_type": "code",
   "execution_count": 82,
   "id": "3d2866e4",
   "metadata": {},
   "outputs": [
    {
     "data": {
      "text/plain": [
       "(891, 12)"
      ]
     },
     "execution_count": 82,
     "metadata": {},
     "output_type": "execute_result"
    }
   ],
   "source": [
    "data.shape"
   ]
  },
  {
   "cell_type": "code",
   "execution_count": 83,
   "id": "9705f38c",
   "metadata": {},
   "outputs": [],
   "source": [
    "data = data.drop(columns=['Name','Ticket','Cabin'])"
   ]
  },
  {
   "cell_type": "code",
   "execution_count": 84,
   "id": "29eefd17",
   "metadata": {},
   "outputs": [
    {
     "data": {
      "text/html": [
       "<div>\n",
       "<style scoped>\n",
       "    .dataframe tbody tr th:only-of-type {\n",
       "        vertical-align: middle;\n",
       "    }\n",
       "\n",
       "    .dataframe tbody tr th {\n",
       "        vertical-align: top;\n",
       "    }\n",
       "\n",
       "    .dataframe thead th {\n",
       "        text-align: right;\n",
       "    }\n",
       "</style>\n",
       "<table border=\"1\" class=\"dataframe\">\n",
       "  <thead>\n",
       "    <tr style=\"text-align: right;\">\n",
       "      <th></th>\n",
       "      <th>PassengerId</th>\n",
       "      <th>Survived</th>\n",
       "      <th>Pclass</th>\n",
       "      <th>Sex</th>\n",
       "      <th>Age</th>\n",
       "      <th>SibSp</th>\n",
       "      <th>Parch</th>\n",
       "      <th>Fare</th>\n",
       "      <th>Embarked</th>\n",
       "    </tr>\n",
       "  </thead>\n",
       "  <tbody>\n",
       "    <tr>\n",
       "      <th>0</th>\n",
       "      <td>1</td>\n",
       "      <td>0</td>\n",
       "      <td>3</td>\n",
       "      <td>male</td>\n",
       "      <td>22.0</td>\n",
       "      <td>1</td>\n",
       "      <td>0</td>\n",
       "      <td>7.2500</td>\n",
       "      <td>S</td>\n",
       "    </tr>\n",
       "    <tr>\n",
       "      <th>1</th>\n",
       "      <td>2</td>\n",
       "      <td>1</td>\n",
       "      <td>1</td>\n",
       "      <td>female</td>\n",
       "      <td>38.0</td>\n",
       "      <td>1</td>\n",
       "      <td>0</td>\n",
       "      <td>71.2833</td>\n",
       "      <td>C</td>\n",
       "    </tr>\n",
       "    <tr>\n",
       "      <th>2</th>\n",
       "      <td>3</td>\n",
       "      <td>1</td>\n",
       "      <td>3</td>\n",
       "      <td>female</td>\n",
       "      <td>26.0</td>\n",
       "      <td>0</td>\n",
       "      <td>0</td>\n",
       "      <td>7.9250</td>\n",
       "      <td>S</td>\n",
       "    </tr>\n",
       "    <tr>\n",
       "      <th>3</th>\n",
       "      <td>4</td>\n",
       "      <td>1</td>\n",
       "      <td>1</td>\n",
       "      <td>female</td>\n",
       "      <td>35.0</td>\n",
       "      <td>1</td>\n",
       "      <td>0</td>\n",
       "      <td>53.1000</td>\n",
       "      <td>S</td>\n",
       "    </tr>\n",
       "    <tr>\n",
       "      <th>4</th>\n",
       "      <td>5</td>\n",
       "      <td>0</td>\n",
       "      <td>3</td>\n",
       "      <td>male</td>\n",
       "      <td>35.0</td>\n",
       "      <td>0</td>\n",
       "      <td>0</td>\n",
       "      <td>8.0500</td>\n",
       "      <td>S</td>\n",
       "    </tr>\n",
       "  </tbody>\n",
       "</table>\n",
       "</div>"
      ],
      "text/plain": [
       "   PassengerId  Survived  Pclass     Sex   Age  SibSp  Parch     Fare Embarked\n",
       "0            1         0       3    male  22.0      1      0   7.2500        S\n",
       "1            2         1       1  female  38.0      1      0  71.2833        C\n",
       "2            3         1       3  female  26.0      0      0   7.9250        S\n",
       "3            4         1       1  female  35.0      1      0  53.1000        S\n",
       "4            5         0       3    male  35.0      0      0   8.0500        S"
      ]
     },
     "execution_count": 84,
     "metadata": {},
     "output_type": "execute_result"
    }
   ],
   "source": [
    "data.head()"
   ]
  },
  {
   "cell_type": "code",
   "execution_count": 85,
   "id": "dcef4bcb",
   "metadata": {},
   "outputs": [
    {
     "data": {
      "text/plain": [
       "PassengerId      0\n",
       "Survived         0\n",
       "Pclass           0\n",
       "Sex              0\n",
       "Age            177\n",
       "SibSp            0\n",
       "Parch            0\n",
       "Fare             0\n",
       "Embarked         2\n",
       "dtype: int64"
      ]
     },
     "execution_count": 85,
     "metadata": {},
     "output_type": "execute_result"
    }
   ],
   "source": [
    "data.isnull().sum()"
   ]
  },
  {
   "cell_type": "code",
   "execution_count": 86,
   "id": "e0ccbf28",
   "metadata": {},
   "outputs": [],
   "source": [
    "data = data.dropna()"
   ]
  },
  {
   "cell_type": "code",
   "execution_count": 87,
   "id": "5c9fb8f4",
   "metadata": {},
   "outputs": [
    {
     "data": {
      "text/plain": [
       "PassengerId    0\n",
       "Survived       0\n",
       "Pclass         0\n",
       "Sex            0\n",
       "Age            0\n",
       "SibSp          0\n",
       "Parch          0\n",
       "Fare           0\n",
       "Embarked       0\n",
       "dtype: int64"
      ]
     },
     "execution_count": 87,
     "metadata": {},
     "output_type": "execute_result"
    }
   ],
   "source": [
    "data.isnull().sum()"
   ]
  },
  {
   "cell_type": "code",
   "execution_count": 88,
   "id": "cad83db4",
   "metadata": {},
   "outputs": [],
   "source": [
    "data = pd.get_dummies(data,columns=['Sex','Embarked'])"
   ]
  },
  {
   "cell_type": "code",
   "execution_count": 89,
   "id": "6d1891de",
   "metadata": {},
   "outputs": [
    {
     "data": {
      "text/html": [
       "<div>\n",
       "<style scoped>\n",
       "    .dataframe tbody tr th:only-of-type {\n",
       "        vertical-align: middle;\n",
       "    }\n",
       "\n",
       "    .dataframe tbody tr th {\n",
       "        vertical-align: top;\n",
       "    }\n",
       "\n",
       "    .dataframe thead th {\n",
       "        text-align: right;\n",
       "    }\n",
       "</style>\n",
       "<table border=\"1\" class=\"dataframe\">\n",
       "  <thead>\n",
       "    <tr style=\"text-align: right;\">\n",
       "      <th></th>\n",
       "      <th>PassengerId</th>\n",
       "      <th>Survived</th>\n",
       "      <th>Pclass</th>\n",
       "      <th>Age</th>\n",
       "      <th>SibSp</th>\n",
       "      <th>Parch</th>\n",
       "      <th>Fare</th>\n",
       "      <th>Sex_female</th>\n",
       "      <th>Sex_male</th>\n",
       "      <th>Embarked_C</th>\n",
       "      <th>Embarked_Q</th>\n",
       "      <th>Embarked_S</th>\n",
       "    </tr>\n",
       "  </thead>\n",
       "  <tbody>\n",
       "    <tr>\n",
       "      <th>0</th>\n",
       "      <td>1</td>\n",
       "      <td>0</td>\n",
       "      <td>3</td>\n",
       "      <td>22.0</td>\n",
       "      <td>1</td>\n",
       "      <td>0</td>\n",
       "      <td>7.2500</td>\n",
       "      <td>0</td>\n",
       "      <td>1</td>\n",
       "      <td>0</td>\n",
       "      <td>0</td>\n",
       "      <td>1</td>\n",
       "    </tr>\n",
       "    <tr>\n",
       "      <th>1</th>\n",
       "      <td>2</td>\n",
       "      <td>1</td>\n",
       "      <td>1</td>\n",
       "      <td>38.0</td>\n",
       "      <td>1</td>\n",
       "      <td>0</td>\n",
       "      <td>71.2833</td>\n",
       "      <td>1</td>\n",
       "      <td>0</td>\n",
       "      <td>1</td>\n",
       "      <td>0</td>\n",
       "      <td>0</td>\n",
       "    </tr>\n",
       "    <tr>\n",
       "      <th>2</th>\n",
       "      <td>3</td>\n",
       "      <td>1</td>\n",
       "      <td>3</td>\n",
       "      <td>26.0</td>\n",
       "      <td>0</td>\n",
       "      <td>0</td>\n",
       "      <td>7.9250</td>\n",
       "      <td>1</td>\n",
       "      <td>0</td>\n",
       "      <td>0</td>\n",
       "      <td>0</td>\n",
       "      <td>1</td>\n",
       "    </tr>\n",
       "    <tr>\n",
       "      <th>3</th>\n",
       "      <td>4</td>\n",
       "      <td>1</td>\n",
       "      <td>1</td>\n",
       "      <td>35.0</td>\n",
       "      <td>1</td>\n",
       "      <td>0</td>\n",
       "      <td>53.1000</td>\n",
       "      <td>1</td>\n",
       "      <td>0</td>\n",
       "      <td>0</td>\n",
       "      <td>0</td>\n",
       "      <td>1</td>\n",
       "    </tr>\n",
       "    <tr>\n",
       "      <th>4</th>\n",
       "      <td>5</td>\n",
       "      <td>0</td>\n",
       "      <td>3</td>\n",
       "      <td>35.0</td>\n",
       "      <td>0</td>\n",
       "      <td>0</td>\n",
       "      <td>8.0500</td>\n",
       "      <td>0</td>\n",
       "      <td>1</td>\n",
       "      <td>0</td>\n",
       "      <td>0</td>\n",
       "      <td>1</td>\n",
       "    </tr>\n",
       "  </tbody>\n",
       "</table>\n",
       "</div>"
      ],
      "text/plain": [
       "   PassengerId  Survived  Pclass   Age  SibSp  Parch     Fare  Sex_female  \\\n",
       "0            1         0       3  22.0      1      0   7.2500           0   \n",
       "1            2         1       1  38.0      1      0  71.2833           1   \n",
       "2            3         1       3  26.0      0      0   7.9250           1   \n",
       "3            4         1       1  35.0      1      0  53.1000           1   \n",
       "4            5         0       3  35.0      0      0   8.0500           0   \n",
       "\n",
       "   Sex_male  Embarked_C  Embarked_Q  Embarked_S  \n",
       "0         1           0           0           1  \n",
       "1         0           1           0           0  \n",
       "2         0           0           0           1  \n",
       "3         0           0           0           1  \n",
       "4         1           0           0           1  "
      ]
     },
     "execution_count": 89,
     "metadata": {},
     "output_type": "execute_result"
    }
   ],
   "source": [
    "data.head()"
   ]
  },
  {
   "cell_type": "code",
   "execution_count": 90,
   "id": "c9bdcb28",
   "metadata": {},
   "outputs": [
    {
     "data": {
      "text/plain": [
       "(712, 12)"
      ]
     },
     "execution_count": 90,
     "metadata": {},
     "output_type": "execute_result"
    }
   ],
   "source": [
    "data.shape"
   ]
  },
  {
   "cell_type": "code",
   "execution_count": 91,
   "id": "2a863cfa",
   "metadata": {},
   "outputs": [],
   "source": [
    "x = data.drop(columns=['Survived'])\n",
    "y = data['Survived']"
   ]
  },
  {
   "cell_type": "code",
   "execution_count": 92,
   "id": "ff499119",
   "metadata": {},
   "outputs": [
    {
     "data": {
      "text/plain": [
       "(712, 11)"
      ]
     },
     "execution_count": 92,
     "metadata": {},
     "output_type": "execute_result"
    }
   ],
   "source": [
    "x.shape"
   ]
  },
  {
   "cell_type": "code",
   "execution_count": 93,
   "id": "cb3ebe35",
   "metadata": {},
   "outputs": [
    {
     "data": {
      "text/plain": [
       "(712,)"
      ]
     },
     "execution_count": 93,
     "metadata": {},
     "output_type": "execute_result"
    }
   ],
   "source": [
    "y.shape"
   ]
  },
  {
   "cell_type": "markdown",
   "id": "98763f7d",
   "metadata": {},
   "source": [
    "# step 1 - standardize the input data"
   ]
  },
  {
   "cell_type": "code",
   "execution_count": 94,
   "id": "c4c008fc",
   "metadata": {},
   "outputs": [
    {
     "data": {
      "text/plain": [
       "(712, 11)"
      ]
     },
     "execution_count": 94,
     "metadata": {},
     "output_type": "execute_result"
    }
   ],
   "source": [
    "# Mean\n",
    "x_mean = x.mean()\n",
    "\n",
    "# Standard deviation\n",
    "x_std = x.std()\n",
    "\n",
    "# Standardization\n",
    "z = (x - x_mean) / x_std\n",
    "\n",
    "z.shape\n"
   ]
  },
  {
   "cell_type": "code",
   "execution_count": 95,
   "id": "e9d679f9",
   "metadata": {},
   "outputs": [
    {
     "data": {
      "text/plain": [
       "(712, 11)"
      ]
     },
     "execution_count": 95,
     "metadata": {},
     "output_type": "execute_result"
    }
   ],
   "source": [
    "x.shape"
   ]
  },
  {
   "cell_type": "markdown",
   "id": "278845c4",
   "metadata": {},
   "source": [
    "# step 2 - find covariance matrix"
   ]
  },
  {
   "cell_type": "code",
   "execution_count": 96,
   "id": "20f7ff6f",
   "metadata": {},
   "outputs": [
    {
     "data": {
      "image/png": "[encoded data removed]",
      "text/plain": [
       "<Figure size 640x480 with 2 Axes>"
      ]
     },
     "metadata": {},
     "output_type": "display_data"
    },
    {
     "data": {
      "text/plain": [
       "(11, 11)"
      ]
     },
     "execution_count": 96,
     "metadata": {},
     "output_type": "execute_result"
    }
   ],
   "source": [
    "# covariance\n",
    "c = z.cov()\n",
    "\n",
    "# Plot the covariance matrix\n",
    "import matplotlib.pyplot as plt\n",
    "import seaborn as sns\n",
    "sns.heatmap(c)\n",
    "plt.show()\n",
    "c.shape"
   ]
  },
  {
   "cell_type": "markdown",
   "id": "9707a48e",
   "metadata": {},
   "source": [
    "# step 3 - find eigen values and eigen vectors"
   ]
  },
  {
   "cell_type": "code",
   "execution_count": 97,
   "id": "e351df23",
   "metadata": {},
   "outputs": [
    {
     "name": "stdout",
     "output_type": "stream",
     "text": [
      "shape of eigen_values =  (11,)\n",
      "\n",
      "eigen_values \n",
      " [2.59746694e+00 2.04662339e+00 1.51525777e+00 1.29655453e+00\n",
      " 1.00258307e+00 9.71296476e-01 3.55371404e-01 6.58385283e-01\n",
      " 5.56461141e-01 1.73807661e-17 1.14036623e-15]\n",
      "\n",
      "\n",
      "shape of eigen_vector =  (11, 11)\n",
      "\n",
      "eigen_vector \n",
      " [[ 1.08888989e-02 -7.21437403e-02  1.02872626e-01 -4.02736996e-02\n",
      "  -8.31277440e-01  5.28157101e-01  1.84201644e-02 -5.08591963e-02\n",
      "  -9.78462995e-02  5.99228624e-19 -8.67668668e-18]\n",
      " [ 3.23290139e-01  2.91525274e-01 -4.00095800e-01 -2.00681715e-01\n",
      "  -1.50756862e-01 -1.37018678e-01  7.16249151e-01  2.32780977e-01\n",
      "   3.80147639e-02 -9.65488062e-18  2.40983037e-16]\n",
      " [-1.09701875e-02 -3.68907638e-01  3.97792790e-01 -1.29776501e-01\n",
      "   2.81387192e-01  2.71022521e-01  3.00950307e-01  5.30898422e-01\n",
      "  -4.04536260e-01  5.50990436e-17  6.30062108e-17]\n",
      " [-1.11617271e-01  3.38284201e-01 -2.35758284e-01  4.95760877e-01\n",
      "   9.17400449e-02  1.25786927e-01  5.39902041e-02 -1.61529413e-01\n",
      "  -7.20068947e-01 -6.08146883e-17  5.20908157e-17]\n",
      " [-2.02521933e-01  3.50823113e-01 -7.11246648e-02  3.96242986e-01\n",
      "  -3.31448583e-02  1.82295607e-01 -1.95632683e-01  6.91883478e-01\n",
      "   3.50050888e-01 -7.30404799e-18 -1.25087204e-16]\n",
      " [-3.82362449e-01 -1.36097819e-01  1.86668307e-01  4.13765745e-01\n",
      "   1.02616558e-01  1.64265344e-01  5.86541508e-01 -3.24232245e-01\n",
      "   3.77569123e-01 -2.19543066e-16  3.53493980e-16]\n",
      " [-4.41970614e-01  3.61489057e-01  1.74802710e-01 -3.64451890e-01\n",
      "  -1.79228622e-02 -4.88168372e-02  4.65628950e-02 -2.45636520e-02\n",
      "  -7.16287760e-02 -7.04809860e-01 -3.51687924e-02]\n",
      " [ 4.41970614e-01 -3.61489057e-01 -1.74802710e-01  3.64451890e-01\n",
      "   1.79228622e-02  4.88168372e-02 -4.65628950e-02  2.45636520e-02\n",
      "   7.16287760e-02 -7.04809860e-01 -3.51687924e-02]\n",
      " [-3.92748742e-01 -3.69657238e-01 -2.88863796e-01  4.20706040e-02\n",
      "  -2.26018796e-01 -3.44727059e-01  1.83005136e-02  1.61036191e-01\n",
      "  -1.13008390e-01  5.18776128e-02 -6.43353414e-01]\n",
      " [-4.38260976e-02 -4.80063477e-03 -4.49309352e-01 -2.99436341e-01\n",
      "   3.65752263e-01  6.54967976e-01 -7.64007209e-02 -1.27162020e-01\n",
      "   1.29297901e-01  2.61008037e-02 -3.23685696e-01]\n",
      " [ 3.85644439e-01  3.45921351e-01  4.78730159e-01  1.00950860e-01\n",
      "   3.90485196e-02  1.41296322e-02  1.87229890e-02 -9.02363463e-02\n",
      "   4.45851087e-02  5.57994914e-02 -6.91990077e-01]]\n"
     ]
    }
   ],
   "source": [
    "eigen_values,eigen_vector = np.linalg.eig(c)\n",
    "\n",
    "print('shape of eigen_values = ',eigen_values.shape)\n",
    "print(\"\\neigen_values \\n\",eigen_values)\n",
    "print('\\n\\nshape of eigen_vector = ',eigen_vector.shape)\n",
    "print(\"\\neigen_vector \\n\",eigen_vector)"
   ]
  },
  {
   "cell_type": "markdown",
   "id": "5cf7ea12",
   "metadata": {},
   "source": [
    "# step 4 -  Sort the eigenvalues in descending order and sort the corresponding eigenvectors accordingly"
   ]
  },
  {
   "cell_type": "code",
   "execution_count": 98,
   "id": "df200d70",
   "metadata": {},
   "outputs": [
    {
     "data": {
      "text/plain": [
       "array([ 0,  1,  2,  3,  4,  5,  7,  8,  6, 10,  9], dtype=int64)"
      ]
     },
     "execution_count": 98,
     "metadata": {},
     "output_type": "execute_result"
    }
   ],
   "source": [
    "# Index the eigenvalues in descending order \n",
    "idx = eigen_values.argsort()[::-1]\n",
    "  \n",
    "idx"
   ]
  },
  {
   "cell_type": "code",
   "execution_count": 99,
   "id": "a419188f",
   "metadata": {},
   "outputs": [
    {
     "data": {
      "text/plain": [
       "array([2.59746694e+00, 2.04662339e+00, 1.51525777e+00, 1.29655453e+00,\n",
       "       1.00258307e+00, 9.71296476e-01, 6.58385283e-01, 5.56461141e-01,\n",
       "       3.55371404e-01, 1.14036623e-15, 1.73807661e-17])"
      ]
     },
     "execution_count": 99,
     "metadata": {},
     "output_type": "execute_result"
    }
   ],
   "source": [
    "# Sort the eigenvalues in descending order \n",
    "eigen_values = eigen_values[idx]\n",
    "  \n",
    "eigen_values"
   ]
  },
  {
   "cell_type": "code",
   "execution_count": 100,
   "id": "cafeb9a1",
   "metadata": {},
   "outputs": [
    {
     "data": {
      "text/plain": [
       "array([[ 1.08888989e-02, -7.21437403e-02,  1.02872626e-01,\n",
       "        -4.02736996e-02, -8.31277440e-01,  5.28157101e-01,\n",
       "        -5.08591963e-02, -9.78462995e-02,  1.84201644e-02,\n",
       "        -8.67668668e-18,  5.99228624e-19],\n",
       "       [ 3.23290139e-01,  2.91525274e-01, -4.00095800e-01,\n",
       "        -2.00681715e-01, -1.50756862e-01, -1.37018678e-01,\n",
       "         2.32780977e-01,  3.80147639e-02,  7.16249151e-01,\n",
       "         2.40983037e-16, -9.65488062e-18],\n",
       "       [-1.09701875e-02, -3.68907638e-01,  3.97792790e-01,\n",
       "        -1.29776501e-01,  2.81387192e-01,  2.71022521e-01,\n",
       "         5.30898422e-01, -4.04536260e-01,  3.00950307e-01,\n",
       "         6.30062108e-17,  5.50990436e-17],\n",
       "       [-1.11617271e-01,  3.38284201e-01, -2.35758284e-01,\n",
       "         4.95760877e-01,  9.17400449e-02,  1.25786927e-01,\n",
       "        -1.61529413e-01, -7.20068947e-01,  5.39902041e-02,\n",
       "         5.20908157e-17, -6.08146883e-17],\n",
       "       [-2.02521933e-01,  3.50823113e-01, -7.11246648e-02,\n",
       "         3.96242986e-01, -3.31448583e-02,  1.82295607e-01,\n",
       "         6.91883478e-01,  3.50050888e-01, -1.95632683e-01,\n",
       "        -1.25087204e-16, -7.30404799e-18],\n",
       "       [-3.82362449e-01, -1.36097819e-01,  1.86668307e-01,\n",
       "         4.13765745e-01,  1.02616558e-01,  1.64265344e-01,\n",
       "        -3.24232245e-01,  3.77569123e-01,  5.86541508e-01,\n",
       "         3.53493980e-16, -2.19543066e-16],\n",
       "       [-4.41970614e-01,  3.61489057e-01,  1.74802710e-01,\n",
       "        -3.64451890e-01, -1.79228622e-02, -4.88168372e-02,\n",
       "        -2.45636520e-02, -7.16287760e-02,  4.65628950e-02,\n",
       "        -3.51687924e-02, -7.04809860e-01],\n",
       "       [ 4.41970614e-01, -3.61489057e-01, -1.74802710e-01,\n",
       "         3.64451890e-01,  1.79228622e-02,  4.88168372e-02,\n",
       "         2.45636520e-02,  7.16287760e-02, -4.65628950e-02,\n",
       "        -3.51687924e-02, -7.04809860e-01],\n",
       "       [-3.92748742e-01, -3.69657238e-01, -2.88863796e-01,\n",
       "         4.20706040e-02, -2.26018796e-01, -3.44727059e-01,\n",
       "         1.61036191e-01, -1.13008390e-01,  1.83005136e-02,\n",
       "        -6.43353414e-01,  5.18776128e-02],\n",
       "       [-4.38260976e-02, -4.80063477e-03, -4.49309352e-01,\n",
       "        -2.99436341e-01,  3.65752263e-01,  6.54967976e-01,\n",
       "        -1.27162020e-01,  1.29297901e-01, -7.64007209e-02,\n",
       "        -3.23685696e-01,  2.61008037e-02],\n",
       "       [ 3.85644439e-01,  3.45921351e-01,  4.78730159e-01,\n",
       "         1.00950860e-01,  3.90485196e-02,  1.41296322e-02,\n",
       "        -9.02363463e-02,  4.45851087e-02,  1.87229890e-02,\n",
       "        -6.91990077e-01,  5.57994914e-02]])"
      ]
     },
     "execution_count": 100,
     "metadata": {},
     "output_type": "execute_result"
    }
   ],
   "source": [
    "# sort the corresponding eigenvectors accordingly\n",
    "eigen_vector = eigen_vector[:,idx]\n",
    "eigen_vector"
   ]
  },
  {
   "cell_type": "markdown",
   "id": "32be4a83",
   "metadata": {},
   "source": [
    "# step 5 -  Explained variance is the term that gives us an idea of the amount of the total variance which has been retained by selecting the principal components instead of the original feature space."
   ]
  },
  {
   "cell_type": "code",
   "execution_count": 101,
   "id": "02b5c891",
   "metadata": {},
   "outputs": [
    {
     "data": {
      "text/plain": [
       "array([ 2.59746694,  4.64409033,  6.1593481 ,  7.45590263,  8.4584857 ,\n",
       "        9.42978217, 10.08816745, 10.6446286 , 11.        , 11.        ,\n",
       "       11.        ])"
      ]
     },
     "execution_count": 101,
     "metadata": {},
     "output_type": "execute_result"
    }
   ],
   "source": [
    " np.cumsum(eigen_values)"
   ]
  },
  {
   "cell_type": "code",
   "execution_count": 102,
   "id": "e6d83eea",
   "metadata": {},
   "outputs": [
    {
     "data": {
      "text/plain": [
       "11.000000000000004"
      ]
     },
     "execution_count": 102,
     "metadata": {},
     "output_type": "execute_result"
    }
   ],
   "source": [
    "np.sum(eigen_values)"
   ]
  },
  {
   "cell_type": "code",
   "execution_count": 103,
   "id": "137ed133",
   "metadata": {},
   "outputs": [
    {
     "data": {
      "text/plain": [
       "array([0.23613336, 0.42219003, 0.55994074, 0.67780933, 0.76895325,\n",
       "       0.85725292, 0.91710613, 0.96769351, 1.        , 1.        ,\n",
       "       1.        ])"
      ]
     },
     "execution_count": 103,
     "metadata": {},
     "output_type": "execute_result"
    }
   ],
   "source": [
    "explained_var = np.cumsum(eigen_values) / np.sum(eigen_values)\n",
    "explained_var"
   ]
  },
  {
   "cell_type": "markdown",
   "id": "0e9aa4ae",
   "metadata": {},
   "source": [
    "# step 6 - Determine the Number of Principal Components "
   ]
  },
  {
   "cell_type": "code",
   "execution_count": 104,
   "id": "3b9d8d25",
   "metadata": {},
   "outputs": [
    {
     "data": {
      "text/plain": [
       "3"
      ]
     },
     "execution_count": 104,
     "metadata": {},
     "output_type": "execute_result"
    }
   ],
   "source": [
    "n_components = np.argmax(explained_var >= 0.50) + 1\n",
    "n_components\n"
   ]
  },
  {
   "cell_type": "markdown",
   "id": "24ddfdd4",
   "metadata": {},
   "source": [
    "# step 7 - Project the Data onto the Selected Principal Components"
   ]
  },
  {
   "cell_type": "code",
   "execution_count": 105,
   "id": "a8ad3293",
   "metadata": {},
   "outputs": [
    {
     "data": {
      "text/plain": [
       "(11, 3)"
      ]
     },
     "execution_count": 105,
     "metadata": {},
     "output_type": "execute_result"
    }
   ],
   "source": [
    "u = eigen_vector[:,:n_components]\n",
    "u.shape"
   ]
  },
  {
   "cell_type": "code",
   "execution_count": 111,
   "id": "b459587a",
   "metadata": {},
   "outputs": [
    {
     "data": {
      "text/plain": [
       "(array(['PassengerId', 'Pclass', 'Age', 'SibSp', 'Parch', 'Fare',\n",
       "        'Sex_female', 'Sex_male', 'Embarked_C', 'Embarked_Q', 'Embarked_S'],\n",
       "       dtype=object),)"
      ]
     },
     "execution_count": 111,
     "metadata": {},
     "output_type": "execute_result"
    }
   ],
   "source": [
    "x.columns.to_numpy(),"
   ]
  },
  {
   "cell_type": "code",
   "execution_count": 112,
   "id": "f25b7833",
   "metadata": {},
   "outputs": [],
   "source": [
    "pca_component = pd.DataFrame(u,\n",
    "                             index = x.columns.to_numpy(),\n",
    "                             columns = ['PC1','PC2','PC3']\n",
    "                            )"
   ]
  },
  {
   "cell_type": "code",
   "execution_count": 113,
   "id": "102be1b0",
   "metadata": {},
   "outputs": [
    {
     "data": {
      "text/html": [
       "<div>\n",
       "<style scoped>\n",
       "    .dataframe tbody tr th:only-of-type {\n",
       "        vertical-align: middle;\n",
       "    }\n",
       "\n",
       "    .dataframe tbody tr th {\n",
       "        vertical-align: top;\n",
       "    }\n",
       "\n",
       "    .dataframe thead th {\n",
       "        text-align: right;\n",
       "    }\n",
       "</style>\n",
       "<table border=\"1\" class=\"dataframe\">\n",
       "  <thead>\n",
       "    <tr style=\"text-align: right;\">\n",
       "      <th></th>\n",
       "      <th>PCA1</th>\n",
       "      <th>PCA2</th>\n",
       "      <th>PC3</th>\n",
       "    </tr>\n",
       "  </thead>\n",
       "  <tbody>\n",
       "    <tr>\n",
       "      <th>0</th>\n",
       "      <td>1.590135</td>\n",
       "      <td>0.467113</td>\n",
       "      <td>-0.715841</td>\n",
       "    </tr>\n",
       "    <tr>\n",
       "      <th>1</th>\n",
       "      <td>-3.436511</td>\n",
       "      <td>-1.088089</td>\n",
       "      <td>-0.266590</td>\n",
       "    </tr>\n",
       "    <tr>\n",
       "      <th>2</th>\n",
       "      <td>-0.133867</td>\n",
       "      <td>1.501288</td>\n",
       "      <td>0.376635</td>\n",
       "    </tr>\n",
       "    <tr>\n",
       "      <th>3</th>\n",
       "      <td>-1.359486</td>\n",
       "      <td>0.822541</td>\n",
       "      <td>1.486227</td>\n",
       "    </tr>\n",
       "    <tr>\n",
       "      <th>4</th>\n",
       "      <td>1.694614</td>\n",
       "      <td>-0.230441</td>\n",
       "      <td>-0.101299</td>\n",
       "    </tr>\n",
       "  </tbody>\n",
       "</table>\n",
       "</div>"
      ],
      "text/plain": [
       "       PCA1      PCA2       PC3\n",
       "0  1.590135  0.467113 -0.715841\n",
       "1 -3.436511 -1.088089 -0.266590\n",
       "2 -0.133867  1.501288  0.376635\n",
       "3 -1.359486  0.822541  1.486227\n",
       "4  1.694614 -0.230441 -0.101299"
      ]
     },
     "execution_count": 113,
     "metadata": {},
     "output_type": "execute_result"
    }
   ],
   "source": [
    "# Matrix multiplication or dot Product\n",
    "z_pca = z @ pca_component                     # @ is used for matrix multiplication\n",
    "\n",
    "z_pca = pd.DataFrame(z_pca.values,\n",
    "\t\t\t\t\tcolumns = ['PCA1','PCA2','PC3']\n",
    "\t\t\t\t\t\t\t)\n",
    "z_pca.head()"
   ]
  },
  {
   "cell_type": "code",
   "execution_count": 114,
   "id": "60f65e67",
   "metadata": {},
   "outputs": [
    {
     "data": {
      "text/html": [
       "<div>\n",
       "<style scoped>\n",
       "    .dataframe tbody tr th:only-of-type {\n",
       "        vertical-align: middle;\n",
       "    }\n",
       "\n",
       "    .dataframe tbody tr th {\n",
       "        vertical-align: top;\n",
       "    }\n",
       "\n",
       "    .dataframe thead th {\n",
       "        text-align: right;\n",
       "    }\n",
       "</style>\n",
       "<table border=\"1\" class=\"dataframe\">\n",
       "  <thead>\n",
       "    <tr style=\"text-align: right;\">\n",
       "      <th></th>\n",
       "      <th>PCA1</th>\n",
       "      <th>PCA2</th>\n",
       "      <th>PC3</th>\n",
       "    </tr>\n",
       "  </thead>\n",
       "  <tbody>\n",
       "    <tr>\n",
       "      <th>0</th>\n",
       "      <td>1.590135</td>\n",
       "      <td>0.467113</td>\n",
       "      <td>-0.715841</td>\n",
       "    </tr>\n",
       "    <tr>\n",
       "      <th>1</th>\n",
       "      <td>-3.436511</td>\n",
       "      <td>-1.088089</td>\n",
       "      <td>-0.266590</td>\n",
       "    </tr>\n",
       "    <tr>\n",
       "      <th>2</th>\n",
       "      <td>-0.133867</td>\n",
       "      <td>1.501288</td>\n",
       "      <td>0.376635</td>\n",
       "    </tr>\n",
       "    <tr>\n",
       "      <th>3</th>\n",
       "      <td>-1.359486</td>\n",
       "      <td>0.822541</td>\n",
       "      <td>1.486227</td>\n",
       "    </tr>\n",
       "    <tr>\n",
       "      <th>4</th>\n",
       "      <td>1.694614</td>\n",
       "      <td>-0.230441</td>\n",
       "      <td>-0.101299</td>\n",
       "    </tr>\n",
       "    <tr>\n",
       "      <th>...</th>\n",
       "      <td>...</td>\n",
       "      <td>...</td>\n",
       "      <td>...</td>\n",
       "    </tr>\n",
       "    <tr>\n",
       "      <th>707</th>\n",
       "      <td>-2.597879</td>\n",
       "      <td>2.066608</td>\n",
       "      <td>-2.718267</td>\n",
       "    </tr>\n",
       "    <tr>\n",
       "      <th>708</th>\n",
       "      <td>1.315728</td>\n",
       "      <td>-0.633870</td>\n",
       "      <td>0.525424</td>\n",
       "    </tr>\n",
       "    <tr>\n",
       "      <th>709</th>\n",
       "      <td>-1.023390</td>\n",
       "      <td>0.679184</td>\n",
       "      <td>1.570478</td>\n",
       "    </tr>\n",
       "    <tr>\n",
       "      <th>710</th>\n",
       "      <td>-1.135829</td>\n",
       "      <td>-2.789394</td>\n",
       "      <td>-0.861271</td>\n",
       "    </tr>\n",
       "    <tr>\n",
       "      <th>711</th>\n",
       "      <td>0.583602</td>\n",
       "      <td>-1.256979</td>\n",
       "      <td>-3.293645</td>\n",
       "    </tr>\n",
       "  </tbody>\n",
       "</table>\n",
       "<p>712 rows × 3 columns</p>\n",
       "</div>"
      ],
      "text/plain": [
       "         PCA1      PCA2       PC3\n",
       "0    1.590135  0.467113 -0.715841\n",
       "1   -3.436511 -1.088089 -0.266590\n",
       "2   -0.133867  1.501288  0.376635\n",
       "3   -1.359486  0.822541  1.486227\n",
       "4    1.694614 -0.230441 -0.101299\n",
       "..        ...       ...       ...\n",
       "707 -2.597879  2.066608 -2.718267\n",
       "708  1.315728 -0.633870  0.525424\n",
       "709 -1.023390  0.679184  1.570478\n",
       "710 -1.135829 -2.789394 -0.861271\n",
       "711  0.583602 -1.256979 -3.293645\n",
       "\n",
       "[712 rows x 3 columns]"
      ]
     },
     "execution_count": 114,
     "metadata": {},
     "output_type": "execute_result"
    }
   ],
   "source": [
    "z_pca"
   ]
  },
  {
   "cell_type": "code",
   "execution_count": 115,
   "id": "d90b1695",
   "metadata": {},
   "outputs": [
    {
     "data": {
      "text/plain": [
       "0      0\n",
       "1      1\n",
       "2      1\n",
       "3      1\n",
       "4      0\n",
       "      ..\n",
       "885    0\n",
       "886    0\n",
       "887    1\n",
       "889    1\n",
       "890    0\n",
       "Name: Survived, Length: 712, dtype: int64"
      ]
     },
     "execution_count": 115,
     "metadata": {},
     "output_type": "execute_result"
    }
   ],
   "source": [
    "y"
   ]
  },
  {
   "cell_type": "code",
   "execution_count": 116,
   "id": "a7cd58b4",
   "metadata": {},
   "outputs": [],
   "source": [
    "from sklearn.model_selection import train_test_split"
   ]
  },
  {
   "cell_type": "code",
   "execution_count": 117,
   "id": "c476bdd1",
   "metadata": {},
   "outputs": [],
   "source": [
    "x_train,x_test,y_train,y_test = train_test_split(z_pca,y,test_size=0.20,random_state=10)"
   ]
  },
  {
   "cell_type": "code",
   "execution_count": 118,
   "id": "c89d611a",
   "metadata": {},
   "outputs": [],
   "source": [
    "from sklearn.linear_model import LogisticRegression\n",
    "\n",
    "lr = LogisticRegression()\n",
    "\n",
    "lr.fit(x_train,y_train)\n",
    "\n",
    "y_pred = lr.predict(x_test)"
   ]
  },
  {
   "cell_type": "code",
   "execution_count": 119,
   "id": "1cb7189f",
   "metadata": {},
   "outputs": [
    {
     "name": "stdout",
     "output_type": "stream",
     "text": [
      "accuracy_score =  0.7902097902097902\n"
     ]
    }
   ],
   "source": [
    "from sklearn.metrics import accuracy_score\n",
    "\n",
    "print(\"accuracy_score = \",accuracy_score(y_pred,y_test))"
   ]
  },
  {
   "cell_type": "markdown",
   "id": "f92aa307",
   "metadata": {},
   "source": [
    "# PCA BY USING SKLEARN LIBRARY"
   ]
  },
  {
   "cell_type": "code",
   "execution_count": 168,
   "id": "33308a11",
   "metadata": {},
   "outputs": [],
   "source": [
    "from sklearn.decomposition import PCA"
   ]
  },
  {
   "cell_type": "code",
   "execution_count": 169,
   "id": "3d123b9a",
   "metadata": {},
   "outputs": [],
   "source": [
    "x_train,x_test,y_train,y_test = train_test_split(z,y,test_size=0.20,random_state=10)"
   ]
  },
  {
   "cell_type": "code",
   "execution_count": 170,
   "id": "4f792c3c",
   "metadata": {},
   "outputs": [],
   "source": [
    "pca = PCA(n_components=3)\n",
    "\n",
    "x_train = pca.fit_transform(x_train)\n",
    "x_test = pca.fit_transform(x_test)"
   ]
  },
  {
   "cell_type": "code",
   "execution_count": 171,
   "id": "5788d23a",
   "metadata": {},
   "outputs": [
    {
     "data": {
      "text/plain": [
       "LogisticRegression()"
      ]
     },
     "execution_count": 171,
     "metadata": {},
     "output_type": "execute_result"
    }
   ],
   "source": [
    "from sklearn.linear_model import LogisticRegression\n",
    "\n",
    "lr = LogisticRegression()\n",
    "\n",
    "lr.fit(x_train,y_train)\n",
    "\n"
   ]
  },
  {
   "cell_type": "code",
   "execution_count": 172,
   "id": "ca420534",
   "metadata": {},
   "outputs": [],
   "source": [
    "y_pred = lr.predict(x_test)"
   ]
  },
  {
   "cell_type": "code",
   "execution_count": 173,
   "id": "0f0c69a0",
   "metadata": {},
   "outputs": [
    {
     "name": "stdout",
     "output_type": "stream",
     "text": [
      "accuracy_score =  0.8041958041958042\n"
     ]
    }
   ],
   "source": [
    "from sklearn.metrics import accuracy_score\n",
    "\n",
    "print(\"accuracy_score = \",accuracy_score(y_pred,y_test))"
   ]
  },
  {
   "cell_type": "code",
   "execution_count": null,
   "id": "ab1ae365",
   "metadata": {},
   "outputs": [],
   "source": []
  }
 ],
 "metadata": {
  "kernelspec": {
   "display_name": "Python 3 (ipykernel)",
   "language": "python",
   "name": "python3"
  },
  "language_info": {
   "codemirror_mode": {
    "name": "ipython",
    "version": 3
   },
   "file_extension": ".py",
   "mimetype": "text/x-python",
   "name": "python",
   "nbconvert_exporter": "python",
   "pygments_lexer": "ipython3",
   "version": "3.9.13"
  }
 },
 "nbformat": 4,
 "nbformat_minor": 5
}
