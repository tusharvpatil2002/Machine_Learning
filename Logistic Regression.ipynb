{
 "cells": [
  {
   "cell_type": "code",
   "execution_count": 3,
   "id": "b813097a",
   "metadata": {},
   "outputs": [],
   "source": [
    "from sklearn.datasets import make_classification\n",
    "import numpy as np\n",
    "x, y = make_classification(n_samples=100, n_features=2, n_informative=1,n_redundant=0,\n",
    "                           n_classes=2, n_clusters_per_class=1, random_state=41,hypercube=False,class_sep=30)"
   ]
  },
  {
   "cell_type": "code",
   "execution_count": 5,
   "id": "53f30c80",
   "metadata": {},
   "outputs": [
    {
     "data": {
      "text/plain": [
       "array([1, 1, 1, 0, 1, 0, 0, 1, 1, 0, 0, 0, 1, 1, 0, 1, 1, 0, 1, 0, 0, 0,\n",
       "       0, 1, 0, 1, 0, 0, 0, 0, 0, 1, 1, 1, 1, 1, 0, 1, 0, 1, 0, 0, 0, 1,\n",
       "       0, 1, 1, 0, 0, 0, 1, 1, 0, 1, 1, 0, 1, 0, 0, 1, 1, 0, 0, 1, 1, 1,\n",
       "       0, 1, 0, 0, 0, 1, 1, 0, 1, 1, 0, 1, 0, 1, 1, 1, 0, 1, 1, 0, 0, 0,\n",
       "       1, 0, 1, 1, 0, 0, 1, 0, 0, 0, 1, 1])"
      ]
     },
     "execution_count": 5,
     "metadata": {},
     "output_type": "execute_result"
    }
   ],
   "source": [
    "y"
   ]
  },
  {
   "cell_type": "code",
   "execution_count": 6,
   "id": "a2643c2b",
   "metadata": {},
   "outputs": [],
   "source": [
    "from sklearn.model_selection import train_test_split\n",
    "x_train,x_test,y_train,y_test = train_test_split(x,y,test_size=0.25,random_state=0)"
   ]
  },
  {
   "cell_type": "code",
   "execution_count": 7,
   "id": "c009004c",
   "metadata": {},
   "outputs": [],
   "source": [
    "from sklearn.preprocessing import StandardScaler\n",
    "st = StandardScaler()\n",
    "\n",
    "x_train = st.fit_transform(x_train)\n",
    "x_test = st.fit_transform(x_test)"
   ]
  },
  {
   "cell_type": "code",
   "execution_count": 8,
   "id": "377064f4",
   "metadata": {},
   "outputs": [
    {
     "name": "stdout",
     "output_type": "stream",
     "text": [
      "[[-0.84932393 -1.53701299]\n",
      " [-1.07595264  1.12229565]\n",
      " [ 0.73372374  0.06930508]\n",
      " [-0.96769022 -0.41172367]\n",
      " [-1.20334492 -0.49616332]\n",
      " [ 1.1137427   0.80563928]\n",
      " [ 0.76760136  1.01277249]\n",
      " [ 1.06563038  0.20438   ]\n",
      " [-0.99783069  0.87978139]\n",
      " [ 0.70572408  0.15476635]\n",
      " [-0.83107705 -1.03838933]\n",
      " [ 0.76092546  0.87220534]\n",
      " [ 1.15801055  0.50451273]\n",
      " [ 1.13719738  0.49345125]\n",
      " [ 1.16841183  1.21781613]\n",
      " [ 0.73923277 -0.75842243]\n",
      " [-0.92243833  0.79603832]\n",
      " [-0.93361384  1.02739572]\n",
      " [-0.79073351  0.22258621]\n",
      " [ 0.75488646  1.70150219]\n",
      " [ 0.94676884  0.44845652]\n",
      " [-1.10449594 -0.87086428]\n",
      " [-0.92386953 -0.6697325 ]\n",
      " [-1.01627051  0.5575452 ]\n",
      " [-0.76286475  0.16390507]\n",
      " [ 1.19968866 -0.04587481]\n",
      " [ 0.78577869 -1.25016756]\n",
      " [ 0.88541448 -0.11988692]\n",
      " [ 1.00142447 -1.04959758]\n",
      " [-1.27450972 -0.55775653]\n",
      " [ 0.89225191 -0.62206996]\n",
      " [-1.07196862 -0.18699575]\n",
      " [ 0.71542913 -0.87103701]\n",
      " [ 1.34581241  0.489188  ]\n",
      " [-0.9550077   0.36785072]\n",
      " [-1.07145671 -0.935158  ]\n",
      " [ 1.2608138  -0.78705506]\n",
      " [-1.10913122 -2.22843047]\n",
      " [-1.16190011 -0.08050149]\n",
      " [ 1.05395897  0.39239096]\n",
      " [-1.09943712  1.47571657]\n",
      " [ 0.89388202  0.70893866]\n",
      " [ 0.70370849 -1.88696075]\n",
      " [-1.08735244  0.81580734]\n",
      " [-0.91152975 -3.06915043]\n",
      " [-1.0689465  -0.10489263]\n",
      " [-1.07979076  0.45946682]\n",
      " [-0.79149753  0.75997086]\n",
      " [-0.9677283   0.33778412]\n",
      " [ 1.09324117 -0.35772646]\n",
      " [-0.81750139  1.35071962]\n",
      " [-1.23402366  0.6865213 ]\n",
      " [ 1.06605234 -1.55583748]\n",
      " [ 1.17025938 -0.31396848]\n",
      " [ 1.1348984   0.29416644]\n",
      " [ 1.0207181   1.93688863]\n",
      " [ 1.04028514  1.21794125]\n",
      " [ 1.25819377  0.59296618]\n",
      " [ 0.8682622   0.38070643]\n",
      " [ 1.06746949 -0.22804365]\n",
      " [ 0.60380038  1.58688969]\n",
      " [-0.92599021  0.06575957]\n",
      " [ 0.81325177 -3.09742208]\n",
      " [ 0.90737137  0.44013373]\n",
      " [-1.27319385 -0.87446334]\n",
      " [-0.87929229 -0.58242249]\n",
      " [-0.81369478  0.94082659]\n",
      " [-1.1650594   0.96497174]\n",
      " [ 1.2694774  -1.13081329]\n",
      " [-1.13065564  0.78306204]\n",
      " [-0.99240938  0.07609762]\n",
      " [ 1.01424933 -0.79895931]\n",
      " [ 0.83740028  0.06848186]\n",
      " [-0.93931146 -0.81410294]\n",
      " [-0.75405469 -0.1159987 ]]\n"
     ]
    }
   ],
   "source": [
    "print(x_train)"
   ]
  },
  {
   "cell_type": "code",
   "execution_count": 9,
   "id": "53321809",
   "metadata": {},
   "outputs": [
    {
     "data": {
      "text/plain": [
       "LogisticRegression()"
      ]
     },
     "execution_count": 9,
     "metadata": {},
     "output_type": "execute_result"
    }
   ],
   "source": [
    "from sklearn.linear_model import LogisticRegression\n",
    "\n",
    "classifier = LogisticRegression()\n",
    "\n",
    "classifier.fit(x_train,y_train)"
   ]
  },
  {
   "cell_type": "code",
   "execution_count": 10,
   "id": "b9a9dc33",
   "metadata": {},
   "outputs": [],
   "source": [
    "y_pred = classifier.predict(x_test)"
   ]
  },
  {
   "cell_type": "code",
   "execution_count": 11,
   "id": "c799911f",
   "metadata": {},
   "outputs": [
    {
     "name": "stdout",
     "output_type": "stream",
     "text": [
      "[[13  0]\n",
      " [ 0 12]]\n"
     ]
    }
   ],
   "source": [
    "from sklearn.metrics import confusion_matrix\n",
    "cm = confusion_matrix(y_test,y_pred)\n",
    "print(cm)"
   ]
  },
  {
   "cell_type": "code",
   "execution_count": 12,
   "id": "832fc814",
   "metadata": {},
   "outputs": [
    {
     "name": "stdout",
     "output_type": "stream",
     "text": [
      "1.0\n"
     ]
    }
   ],
   "source": [
    "from sklearn.metrics import accuracy_score\n",
    "print(accuracy_score(y_test,y_pred))"
   ]
  },
  {
   "cell_type": "code",
   "execution_count": null,
   "id": "fcfa3b3e",
   "metadata": {},
   "outputs": [],
   "source": []
  }
 ],
 "metadata": {
  "kernelspec": {
   "display_name": "Python 3 (ipykernel)",
   "language": "python",
   "name": "python3"
  },
  "language_info": {
   "codemirror_mode": {
    "name": "ipython",
    "version": 3
   },
   "file_extension": ".py",
   "mimetype": "text/x-python",
   "name": "python",
   "nbconvert_exporter": "python",
   "pygments_lexer": "ipython3",
   "version": "3.9.13"
  }
 },
 "nbformat": 4,
 "nbformat_minor": 5
}
